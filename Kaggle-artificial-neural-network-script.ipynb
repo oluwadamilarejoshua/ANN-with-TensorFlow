{
 "cells": [
  {
   "cell_type": "code",
   "execution_count": null,
   "metadata": {
    "_cell_guid": "b1076dfc-b9ad-4769-8c92-a6c4dae69d19",
    "_uuid": "8f2839f25d086af736a60e9eeb907d3b93b6e0e5"
   },
   "outputs": [],
   "source": [
    "from PIL import Image\n",
    "import numpy as np\n",
    "import os\n",
    "from tensorflow import argmax, random\n",
    "import matplotlib.pyplot as plt\n",
    "from tensorflow.keras.layers import Flatten, Dense\n",
    "from tensorflow.keras.models import Sequential\n",
    "from tensorflow.keras.utils import to_categorical\n",
    "import gc\n",
    "\n"
   ]
  },
  {
   "cell_type": "markdown",
   "metadata": {},
   "source": [
    "# LOADING THE IMAGES\n",
    "Of all the 10 folders, 373 images were read from these folders; Tomato___Leaf_Mold, Tomato___Target_Spot, Tomato___Tomato_mosaic_virus,Tomato___healthy and saved in a list (lst_images) alongside their disease label in a list (lbl_images)"
   ]
  },
  {
   "cell_type": "code",
   "execution_count": null,
   "metadata": {},
   "outputs": [],
   "source": [
    "selected_folders=['Tomato___Leaf_Mold','Tomato___Target_Spot','Tomato___Tomato_mosaic_virus','Tomato___healthy']\n",
    "\n",
    "lst_images=[]\n",
    "lbl_images=[]\n",
    "for folder in os.listdir('../input/fulltomatodiseasedetection/full_plant'):\n",
    "    if folder in selected_folders:\n",
    "        i=0\n",
    "        for file in os.listdir('../input/fulltomatodiseasedetection/full_plant/'+folder):\n",
    "            img_path='../input/fulltomatodiseasedetection/full_plant/'+folder+'/'+file\n",
    "            image_array=np.asarray(Image.open(img_path))\n",
    "            lst_images.append(image_array)\n",
    "            lbl_images.append(folder)\n",
    "            i +=1\n",
    "            if i==373:\n",
    "                break\n",
    "print('total images: ', len(lbl_images))\n",
    "print('Dimension of each image: ', lst_images[0].shape)\n",
    "print('labels: ',set(lbl_images))"
   ]
  },
  {
   "cell_type": "markdown",
   "metadata": {},
   "source": [
    "## Example of a picture"
   ]
  },
  {
   "cell_type": "code",
   "execution_count": null,
   "metadata": {},
   "outputs": [],
   "source": [
    "index =500\n",
    "plt.imshow(lst_images[index])\n",
    "print ( \"it's a \"+ lbl_images[index] +\"  picture.\")"
   ]
  },
  {
   "cell_type": "markdown",
   "metadata": {},
   "source": [
    "## PRE-PROCESSING\n",
    "\n",
    "lst_images is made a numpy array and it value standardized (i.e scaled between 0-1) and saved in X\n",
    "Y is made a ctegorical matrix"
   ]
  },
  {
   "cell_type": "code",
   "execution_count": null,
   "metadata": {},
   "outputs": [],
   "source": [
    "from sklearn.preprocessing import OrdinalEncoder\n",
    "X= np.asarray(lst_images)/255\n",
    "\n",
    "#The Values of Y are encoded\n",
    "lbl_images_array=np.asarray(lbl_images).reshape((len(lbl_images), -1))\n",
    "lbl_encoded=OrdinalEncoder(categories=[selected_folders]).fit_transform(lbl_images_array) # the labels are made an array\n",
    "Y= to_categorical(lbl_encoded)\n",
    "print('Y :')\n",
    "print(Y)"
   ]
  },
  {
   "cell_type": "markdown",
   "metadata": {},
   "source": [
    "## SPLITING THE DATA\n",
    "\n",
    "X and Y is shuffled and splitted into train and test set in ratio 7:3"
   ]
  },
  {
   "cell_type": "code",
   "execution_count": null,
   "metadata": {},
   "outputs": [],
   "source": [
    "from sklearn.model_selection import train_test_split\n",
    "x_train, x_test, y_train, y_test = train_test_split(X, Y, test_size=0.3, random_state=42)\n"
   ]
  },
  {
   "cell_type": "code",
   "execution_count": null,
   "metadata": {},
   "outputs": [],
   "source": [
    "#Free up Ram\n",
    "del(lst_images)\n",
    "del(X)\n",
    "gc.collect()"
   ]
  },
  {
   "cell_type": "markdown",
   "metadata": {},
   "source": [
    "## Create ANN Model Using Tensorflow Keras\n",
    "\n",
    "Architecture of the Network is :-\n",
    "\n",
    "1). Input layer for 256x256x3 images in X\n",
    "\n",
    "2). Dense layers with 1000 neurons and ReLU activation function\n",
    "\n",
    "3). Output layer with 4 neurons for classification of input images as one of 4 disease 'Tomato___Leaf_Mold','Tomato___Target_Spot','Tomato___Tomato_mosaic_virus','Tomato___healthy')"
   ]
  },
  {
   "cell_type": "code",
   "execution_count": null,
   "metadata": {},
   "outputs": [],
   "source": [
    "\n",
    "\n",
    "#Creating The ANN object\n",
    "ann=Sequential()\n",
    "\n",
    "#Adding The Input Layer\n",
    "ann.add(Flatten(input_shape=(256, 256, 3)))\n",
    "\n",
    "\n",
    "#Adding the first layer\n",
    "ann.add(Dense(units=1000, activation='relu'))\n",
    "\n",
    "#Adding the second layer\n",
    "ann.add(Dense(units=1000, activation='relu'))\n",
    "\n",
    "#Adding the third layer\n",
    "ann.add(Dense(units=1000, activation='relu'))\n",
    "\n",
    "#Adding The Output Layer\n",
    "ann.add(Dense(units = 4, activation = 'softmax'))\n",
    "\n",
    "#Visualizing the model\n",
    "plot_model(ann, to_file='model_plot.png', show_shapes= True, show_layer_names=True)\n",
    "\n",
    "#Compiling the ANN\n",
    "ann.compile(optimizer = 'adam', loss = 'categorical_crossentropy', metrics = ['accuracy'])\n"
   ]
  },
  {
   "cell_type": "markdown",
   "metadata": {},
   "source": [
    "## Training and Validation\n",
    "The ann.fit method adjusts the model parameters to minimize the loss:"
   ]
  },
  {
   "cell_type": "code",
   "execution_count": null,
   "metadata": {},
   "outputs": [],
   "source": [
    "ann.fit(x_train, y_train, epochs = 20)"
   ]
  },
  {
   "cell_type": "markdown",
   "metadata": {},
   "source": [
    "The ann.evaluate method checks the models performance(accuracy), usually on a \"Test-set\"."
   ]
  },
  {
   "cell_type": "code",
   "execution_count": null,
   "metadata": {},
   "outputs": [],
   "source": [
    "#free up RAM\n",
    "del(x_train)\n",
    "gc.collect()"
   ]
  },
  {
   "cell_type": "code",
   "execution_count": null,
   "metadata": {},
   "outputs": [],
   "source": [
    "\n",
    "loss, acc = ann.evaluate(x_test,  y_test, verbose=False)\n",
    "print(f\"The ANN has {acc*100:.2f}\"+ '% accuracy')"
   ]
  },
  {
   "cell_type": "code",
   "execution_count": null,
   "metadata": {},
   "outputs": [],
   "source": [
    "from sklearn.metrics import confusion_matrix\n",
    "y_pred = ann.predict(x_test)\n",
    "\n",
    "predicted_categories = argmax(y_pred, axis=1)\n",
    "\n",
    "y_test_categories= argmax(y_test, axis=1)\n",
    "\n",
    "#true_categories = tf.concat([y for x, y in test_dataset], axis=0)\n",
    "\n",
    "cf=confusion_matrix(y_test_categories, predicted_categories)\n"
   ]
  },
  {
   "cell_type": "code",
   "execution_count": null,
   "metadata": {},
   "outputs": [],
   "source": [
    "import seaborn as sns\n",
    "def make_confusion_matrix(cf,\n",
    "                          categories=selected_folders,\n",
    "                          cbar=True,\n",
    "                          cmap='Blues',\n",
    "                          title=None):\n",
    "\n",
    "\n",
    "    # CODE TO GENERATE TEXT INSIDE EACH SQUARE\n",
    "    blanks = ['' for i in range(cf.size)]\n",
    "\n",
    "\n",
    "    group_counts = [\"{0:0.0f}\\n\".format(value) for value in cf.flatten()]\n",
    "\n",
    "\n",
    "    group_percentages = [\"{0:.2%}\".format(value) for value in cf.flatten()/np.sum(cf)]\n",
    "\n",
    "    box_labels = [f\"{v1}{v2}\".strip() for v1, v2 in zip(group_counts,group_percentages)]\n",
    "    box_labels = np.asarray(box_labels).reshape(cf.shape[0],cf.shape[1])\n",
    "\n",
    "    figsize = plt.rcParams.get('figure.figsize')\n",
    "\n",
    "    # MAKE THE HEATMAP VISUALIZATION\n",
    "    plt.figure(figsize=figsize)\n",
    "    sns.heatmap(cf,annot=box_labels,fmt=\"\",cmap=cmap,cbar=cbar,xticklabels=categories,yticklabels=categories)\n",
    "\n",
    "    plt.ylabel('True label')\n",
    "    plt.xlabel('Predicted label')\n",
    "    \n",
    "    if title:\n",
    "        plt.title(title)"
   ]
  },
  {
   "cell_type": "code",
   "execution_count": null,
   "metadata": {},
   "outputs": [],
   "source": [
    "make_confusion_matrix(cf,categories=selected_folders,\n",
    "                          cbar=True,\n",
    "                          cmap='Blues',\n",
    "                          title=None)"
   ]
  }
 ],
 "metadata": {
  "kernelspec": {
   "display_name": "Python 3",
   "language": "python",
   "name": "python3"
  },
  "language_info": {
   "codemirror_mode": {
    "name": "ipython",
    "version": 3
   },
   "file_extension": ".py",
   "mimetype": "text/x-python",
   "name": "python",
   "nbconvert_exporter": "python",
   "pygments_lexer": "ipython3",
   "version": "3.7.4"
  }
 },
 "nbformat": 4,
 "nbformat_minor": 4
}
