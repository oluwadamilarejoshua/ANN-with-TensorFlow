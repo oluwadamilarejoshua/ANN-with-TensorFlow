{
 "cells": [
  {
   "cell_type": "code",
   "execution_count": 2,
   "metadata": {
    "execution": {
     "iopub.execute_input": "2021-11-02T07:11:39.572992Z",
     "iopub.status.busy": "2021-11-02T07:11:39.572477Z",
     "iopub.status.idle": "2021-11-02T07:11:39.598386Z",
     "shell.execute_reply": "2021-11-02T07:11:39.597447Z",
     "shell.execute_reply.started": "2021-11-02T07:11:39.572925Z"
    }
   },
   "outputs": [],
   "source": [
    "from PIL import Image\n",
    "import numpy as np\n",
    "import os\n",
    "from tensorflow import argmax, random\n",
    "import matplotlib.pyplot as plt\n",
    "from tensorflow.keras.layers import Flatten, Dense\n",
    "from tensorflow.keras.models import Sequential\n",
    "from tensorflow.keras.utils import to_categorical\n",
    "import gc\n",
    "\n"
   ]
  },
  {
   "cell_type": "markdown",
   "metadata": {},
   "source": [
    "## LOADING THE IMAGES\n",
    "\n",
    "Of all the 10 folders, 373 images were read from these folders; Tomato___Leaf_Mold, Tomato___Target_Spot, Tomato___Tomato_mosaic_virus,Tomato___healthy and saved in a list (lst_images) alongside their disease label in a list (lbl_images)"
   ]
  },
  {
   "cell_type": "code",
   "execution_count": 3,
   "metadata": {
    "execution": {
     "iopub.execute_input": "2021-11-02T07:11:39.601279Z",
     "iopub.status.busy": "2021-11-02T07:11:39.600500Z",
     "iopub.status.idle": "2021-11-02T07:11:52.976131Z",
     "shell.execute_reply": "2021-11-02T07:11:52.975051Z",
     "shell.execute_reply.started": "2021-11-02T07:11:39.601088Z"
    }
   },
   "outputs": [],
   "source": [
    "selected_folders=['Tomato___Leaf_Mold','Tomato___Target_Spot','Tomato___Tomato_mosaic_virus','Tomato___healthy']\n",
    "\n",
    "lst_images=[]\n",
    "lbl_images=[]\n",
    "for folder in os.listdir('../input/full_plant'):\n",
    "    if folder in selected_folders:\n",
    "        i=0\n",
    "        for file in os.listdir('../input/full_plant/'+folder):\n",
    "            img_path='../input/full_plant/'+folder+'/'+file\n",
    "            image_array=np.asarray(Image.open(img_path))\n",
    "            lst_images.append(image_array)\n",
    "            lbl_images.append(folder)\n",
    "            i +=1\n",
    "            if i==373:\n",
    "                break\n",
    "print('total images: ', len(lbl_images))\n",
    "print('Dimension of each image: ', lst_images[0].shape)\n",
    "print('labels: ',set(lbl_images))"
   ]
  },
  {
   "cell_type": "markdown",
   "metadata": {},
   "source": [
    "## Example of a picture"
   ]
  },
  {
   "cell_type": "code",
   "execution_count": 4,
   "metadata": {
    "execution": {
     "iopub.execute_input": "2021-11-02T07:11:52.978210Z",
     "iopub.status.busy": "2021-11-02T07:11:52.977769Z",
     "iopub.status.idle": "2021-11-02T07:11:53.206178Z",
     "shell.execute_reply": "2021-11-02T07:11:53.204957Z",
     "shell.execute_reply.started": "2021-11-02T07:11:52.978138Z"
    }
   },
   "outputs": [],
   "source": [
    "index =500\n",
    "plt.imshow(lst_images[index])\n",
    "print ( \"it's a \"+ lbl_images[index] +\"  picture.\")"
   ]
  },
  {
   "cell_type": "markdown",
   "metadata": {},
   "source": [
    "## PRE-PROCESSING\n",
    "\n",
    "lst_images is made a numpy array and it value standardized (i.e scaled between 0-1) and saved in X\n",
    "Y is made a ctegorical matrix"
   ]
  },
  {
   "cell_type": "code",
   "execution_count": 5,
   "metadata": {
    "execution": {
     "iopub.execute_input": "2021-11-02T07:11:53.210607Z",
     "iopub.status.busy": "2021-11-02T07:11:53.210248Z",
     "iopub.status.idle": "2021-11-02T07:11:55.171587Z",
     "shell.execute_reply": "2021-11-02T07:11:55.170501Z",
     "shell.execute_reply.started": "2021-11-02T07:11:53.210549Z"
    }
   },
   "outputs": [],
   "source": [
    "from sklearn.preprocessing import OrdinalEncoder\n",
    "X= np.asarray(lst_images)/255\n",
    "\n",
    "#The Values of Y are encoded\n",
    "lbl_images_array=np.asarray(lbl_images).reshape((len(lbl_images), -1))\n",
    "lbl_encoded=OrdinalEncoder(categories=[selected_folders]).fit_transform(lbl_images_array) # the labels are made an array\n",
    "Y= to_categorical(lbl_encoded)\n",
    "print('Y :')\n",
    "print(Y)"
   ]
  },
  {
   "cell_type": "markdown",
   "metadata": {},
   "source": [
    "## SPLITING THE DATA"
   ]
  },
  {
   "cell_type": "markdown",
   "metadata": {},
   "source": [
    "X and Y is shuffled and splitted into train and test set in ratio 70:30"
   ]
  },
  {
   "cell_type": "code",
   "execution_count": 6,
   "metadata": {
    "execution": {
     "iopub.execute_input": "2021-11-02T07:11:55.175122Z",
     "iopub.status.busy": "2021-11-02T07:11:55.174511Z",
     "iopub.status.idle": "2021-11-02T07:11:56.114760Z",
     "shell.execute_reply": "2021-11-02T07:11:56.113613Z",
     "shell.execute_reply.started": "2021-11-02T07:11:55.175060Z"
    }
   },
   "outputs": [],
   "source": [
    "from sklearn.model_selection import train_test_split\n",
    "x_train, x_test, y_train, y_test = train_test_split(X, Y, test_size=0.3, random_state=42)\n"
   ]
  },
  {
   "cell_type": "code",
   "execution_count": 7,
   "metadata": {
    "execution": {
     "iopub.execute_input": "2021-11-02T07:11:56.117160Z",
     "iopub.status.busy": "2021-11-02T07:11:56.116716Z",
     "iopub.status.idle": "2021-11-02T07:11:56.258780Z",
     "shell.execute_reply": "2021-11-02T07:11:56.257027Z",
     "shell.execute_reply.started": "2021-11-02T07:11:56.117088Z"
    }
   },
   "outputs": [],
   "source": [
    "#Free up Ram\n",
    "del(lst_images)\n",
    "del(X)\n",
    "gc.collect()"
   ]
  },
  {
   "cell_type": "markdown",
   "metadata": {},
   "source": [
    "# Create ANN Model Using Tensorflow Keras\n",
    "\n",
    "Architecture of the Network is :-\n",
    "\n",
    "1). Input layer for 256x256x3 images in X\n",
    "\n",
    "2). Dense layers with 1000 neurons and ReLU activation function\n",
    "\n",
    "\n",
    "3). Output layer with 4 neurons for classification of input images as one of 4 disease 'Tomato___Leaf_Mold','Tomato___Target_Spot','Tomato___Tomato_mosaic_virus','Tomato___healthy')"
   ]
  },
  {
   "cell_type": "code",
   "execution_count": 8,
   "metadata": {
    "execution": {
     "iopub.execute_input": "2021-11-02T07:11:56.261542Z",
     "iopub.status.busy": "2021-11-02T07:11:56.260766Z",
     "iopub.status.idle": "2021-11-02T07:11:59.125502Z",
     "shell.execute_reply": "2021-11-02T07:11:59.124496Z",
     "shell.execute_reply.started": "2021-11-02T07:11:56.261448Z"
    }
   },
   "outputs": [],
   "source": [
    "\n",
    "\n",
    "#Creating The ANN object\n",
    "ann=Sequential()\n",
    "\n",
    "#Adding The Input Layer\n",
    "ann.add(Flatten(input_shape=(256, 256, 3)))\n",
    "\n",
    "\n",
    "#Adding the first layer\n",
    "ann.add(Dense(units=1000, activation='relu'))\n",
    "\n",
    "#Adding the second layer\n",
    "ann.add(Dense(units=1000, activation='relu'))\n",
    "\n",
    "#Adding the third layer\n",
    "ann.add(Dense(units=1000, activation='relu'))\n",
    "\n",
    "#Adding The Output Layer\n",
    "ann.add(Dense(units = 4, activation = 'softmax'))\n",
    "\n",
    "#Compiling the ANN\n",
    "ann.compile(optimizer = 'adam', loss = 'categorical_crossentropy', metrics = ['accuracy'])"
   ]
  },
  {
   "cell_type": "markdown",
   "metadata": {},
   "source": [
    "# Training and Validation\n",
    "\n",
    "The ann.fit method adjusts the model parameters to minimize the loss:"
   ]
  },
  {
   "cell_type": "code",
   "execution_count": 9,
   "metadata": {
    "execution": {
     "iopub.execute_input": "2021-11-02T07:11:59.127965Z",
     "iopub.status.busy": "2021-11-02T07:11:59.127417Z",
     "iopub.status.idle": "2021-11-02T07:12:50.951884Z",
     "shell.execute_reply": "2021-11-02T07:12:50.950585Z",
     "shell.execute_reply.started": "2021-11-02T07:11:59.127885Z"
    }
   },
   "outputs": [],
   "source": [
    "ann.fit(x_train, y_train, epochs =30)"
   ]
  },
  {
   "cell_type": "markdown",
   "metadata": {},
   "source": [
    "The ann.evaluate method checks the models performance(accuracy), usually on a \"Test-set\"."
   ]
  },
  {
   "cell_type": "code",
   "execution_count": 10,
   "metadata": {
    "execution": {
     "iopub.execute_input": "2021-11-02T07:12:50.954272Z",
     "iopub.status.busy": "2021-11-02T07:12:50.953749Z",
     "iopub.status.idle": "2021-11-02T07:12:51.176790Z",
     "shell.execute_reply": "2021-11-02T07:12:51.175364Z",
     "shell.execute_reply.started": "2021-11-02T07:12:50.954211Z"
    }
   },
   "outputs": [],
   "source": [
    "#free up RAM\n",
    "del(x_train)\n",
    "gc.collect()"
   ]
  },
  {
   "cell_type": "code",
   "execution_count": 11,
   "metadata": {
    "execution": {
     "iopub.execute_input": "2021-11-02T07:12:51.179823Z",
     "iopub.status.busy": "2021-11-02T07:12:51.178973Z",
     "iopub.status.idle": "2021-11-02T07:12:52.356519Z",
     "shell.execute_reply": "2021-11-02T07:12:52.355254Z",
     "shell.execute_reply.started": "2021-11-02T07:12:51.179742Z"
    }
   },
   "outputs": [],
   "source": [
    "\n",
    "loss, acc=ann.evaluate(x_test,  y_test, verbose=False)\n",
    "print(f\"The ANN has {acc*100:.2f}\"+ '% accuracy')"
   ]
  },
  {
   "cell_type": "code",
   "execution_count": 12,
   "metadata": {
    "execution": {
     "iopub.execute_input": "2021-11-02T07:12:52.359067Z",
     "iopub.status.busy": "2021-11-02T07:12:52.358415Z",
     "iopub.status.idle": "2021-11-02T07:12:53.476944Z",
     "shell.execute_reply": "2021-11-02T07:12:53.475542Z",
     "shell.execute_reply.started": "2021-11-02T07:12:52.358815Z"
    }
   },
   "outputs": [],
   "source": [
    "from sklearn.metrics import confusion_matrix\n",
    "y_pred = ann.predict(x_test)\n",
    "\n",
    "predicted_categories = argmax(y_pred, axis=1)\n",
    "\n",
    "y_test_categories= argmax(y_test, axis=1)\n",
    "\n",
    "#true_categories = tf.concat([y for x, y in test_dataset], axis=0)\n",
    "\n",
    "cf=confusion_matrix(y_test_categories, predicted_categories)\n"
   ]
  },
  {
   "cell_type": "code",
   "execution_count": 13,
   "metadata": {
    "execution": {
     "iopub.execute_input": "2021-11-02T07:12:53.479482Z",
     "iopub.status.busy": "2021-11-02T07:12:53.478902Z",
     "iopub.status.idle": "2021-11-02T07:12:53.669839Z",
     "shell.execute_reply": "2021-11-02T07:12:53.668797Z",
     "shell.execute_reply.started": "2021-11-02T07:12:53.479406Z"
    }
   },
   "outputs": [],
   "source": [
    "import seaborn as sns\n",
    "def make_confusion_matrix(cf,\n",
    "                          categories=selected_folders,\n",
    "                          cbar=True,\n",
    "                          cmap='Blues',\n",
    "                          title=None):\n",
    "\n",
    "\n",
    "    # CODE TO GENERATE TEXT INSIDE EACH SQUARE\n",
    "    blanks = ['' for i in range(cf.size)]\n",
    "\n",
    "\n",
    "    group_counts = [\"{0:0.0f}\\n\".format(value) for value in cf.flatten()]\n",
    "\n",
    "\n",
    "    group_percentages = [\"{0:.2%}\".format(value) for value in cf.flatten()/np.sum(cf)]\n",
    "\n",
    "    box_labels = [f\"{v1}{v2}\".strip() for v1, v2 in zip(group_counts,group_percentages)]\n",
    "    box_labels = np.asarray(box_labels).reshape(cf.shape[0],cf.shape[1])\n",
    "\n",
    "    figsize = plt.rcParams.get('figure.figsize')\n",
    "\n",
    "    # MAKE THE HEATMAP VISUALIZATION\n",
    "    plt.figure(figsize=figsize)\n",
    "    sns.heatmap(cf,annot=box_labels,fmt=\"\",cmap=cmap,cbar=cbar,xticklabels=categories,yticklabels=categories)\n",
    "\n",
    "    plt.ylabel('True label')\n",
    "    plt.xlabel('Predicted label')\n",
    "    \n",
    "    if title:\n",
    "        plt.title(title)"
   ]
  },
  {
   "cell_type": "code",
   "execution_count": 14,
   "metadata": {
    "execution": {
     "iopub.execute_input": "2021-11-02T07:12:53.674404Z",
     "iopub.status.busy": "2021-11-02T07:12:53.674064Z",
     "iopub.status.idle": "2021-11-02T07:12:54.018458Z",
     "shell.execute_reply": "2021-11-02T07:12:54.017045Z",
     "shell.execute_reply.started": "2021-11-02T07:12:53.674343Z"
    }
   },
   "outputs": [],
   "source": [
    "make_confusion_matrix(cf,categories=selected_folders,\n",
    "                          cbar=True,\n",
    "                          cmap='Blues',\n",
    "                          title=None)"
   ]
  },
  {
   "cell_type": "code",
   "execution_count": null,
   "metadata": {},
   "outputs": [],
   "source": []
  },
  {
   "cell_type": "code",
   "execution_count": null,
   "metadata": {},
   "outputs": [],
   "source": []
  }
 ],
 "metadata": {
  "kernelspec": {
   "display_name": "Python 3",
   "language": "python",
   "name": "python3"
  },
  "language_info": {
   "codemirror_mode": {
    "name": "ipython",
    "version": 3
   },
   "file_extension": ".py",
   "mimetype": "text/x-python",
   "name": "python",
   "nbconvert_exporter": "python",
   "pygments_lexer": "ipython3",
   "version": "3.7.4"
  }
 },
 "nbformat": 4,
 "nbformat_minor": 4
}
