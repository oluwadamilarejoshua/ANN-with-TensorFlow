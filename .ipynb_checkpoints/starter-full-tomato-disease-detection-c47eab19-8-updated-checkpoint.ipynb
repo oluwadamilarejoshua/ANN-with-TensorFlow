{
 "cells": [
  {
   "cell_type": "code",
   "execution_count": 1,
   "metadata": {
    "execution": {
     "iopub.execute_input": "2021-11-07T15:31:18.071019Z",
     "iopub.status.busy": "2021-11-07T15:31:18.070655Z",
     "iopub.status.idle": "2021-11-07T15:31:21.881360Z",
     "shell.execute_reply": "2021-11-07T15:31:21.880408Z",
     "shell.execute_reply.started": "2021-11-07T15:31:18.070941Z"
    }
   },
   "outputs": [],
   "source": [
    "from PIL import Image\n",
    "import numpy as np\n",
    "import os\n",
    "from tensorflow import argmax, random\n",
    "import matplotlib.pyplot as plt\n",
    "from tensorflow.keras.layers import Flatten, Dense\n",
    "from tensorflow.keras.models import Sequential\n",
    "from tensorflow.keras.utils import to_categorical\n",
    "from keras.callbacks import EarlyStopping\n",
    "import gc\n",
    "\n"
   ]
  },
  {
   "cell_type": "markdown",
   "metadata": {},
   "source": [
    "## LOADING THE IMAGES\n",
    "\n",
    "Of all the 10 folders, 373 images were read from these folders; Tomato___Leaf_Mold, Tomato___Target_Spot, Tomato___Tomato_mosaic_virus,Tomato___healthy and saved in a list (lst_images) alongside their disease label in a list (lbl_images)"
   ]
  },
  {
   "cell_type": "code",
   "execution_count": 2,
   "metadata": {
    "execution": {
     "iopub.execute_input": "2021-11-07T15:31:21.883843Z",
     "iopub.status.busy": "2021-11-07T15:31:21.883264Z",
     "iopub.status.idle": "2021-11-07T15:31:32.839533Z",
     "shell.execute_reply": "2021-11-07T15:31:32.838691Z",
     "shell.execute_reply.started": "2021-11-07T15:31:21.883792Z"
    }
   },
   "outputs": [],
   "source": [
    "selected_folders=['Tomato___Leaf_Mold','Tomato___Target_Spot','Tomato___Tomato_mosaic_virus','Tomato___healthy']\n",
    "\n",
    "lst_images=[]\n",
    "lbl_images=[]\n",
    "for folder in os.listdir('../input/full_plant'):\n",
    "    if folder in selected_folders:\n",
    "        i=0\n",
    "        for file in os.listdir('../input/full_plant/'+folder):\n",
    "            img_path='../input/full_plant/'+folder+'/'+file\n",
    "            image_array=np.asarray(Image.open(img_path))\n",
    "            lst_images.append(image_array)\n",
    "            lbl_images.append(folder)\n",
    "            i +=1\n",
    "            if i==500:\n",
    "                break\n",
    "print('total images: ', len(lbl_images))\n",
    "print('Dimension of each image: ', lst_images[0].shape)\n",
    "print('labels: ',set(lbl_images))"
   ]
  },
  {
   "cell_type": "markdown",
   "metadata": {},
   "source": [
    "## Example of a picture"
   ]
  },
  {
   "cell_type": "code",
   "execution_count": 3,
   "metadata": {
    "execution": {
     "iopub.execute_input": "2021-11-07T15:31:32.841505Z",
     "iopub.status.busy": "2021-11-07T15:31:32.841099Z",
     "iopub.status.idle": "2021-11-07T15:31:33.027979Z",
     "shell.execute_reply": "2021-11-07T15:31:33.027045Z",
     "shell.execute_reply.started": "2021-11-07T15:31:32.841451Z"
    }
   },
   "outputs": [],
   "source": [
    "index =500\n",
    "plt.imshow(lst_images[index])\n",
    "print ( \"it's a \"+ lbl_images[index] +\"  picture.\")"
   ]
  },
  {
   "cell_type": "markdown",
   "metadata": {},
   "source": [
    "## PRE-PROCESSING\n",
    "\n",
    "lst_images is made a numpy array and it value standardized (i.e scaled between 0-1) and saved in X\n",
    "Y is made a ctegorical matrix"
   ]
  },
  {
   "cell_type": "code",
   "execution_count": 4,
   "metadata": {
    "execution": {
     "iopub.execute_input": "2021-11-07T15:31:33.029450Z",
     "iopub.status.busy": "2021-11-07T15:31:33.029120Z",
     "iopub.status.idle": "2021-11-07T15:31:34.497450Z",
     "shell.execute_reply": "2021-11-07T15:31:34.496567Z",
     "shell.execute_reply.started": "2021-11-07T15:31:33.029403Z"
    }
   },
   "outputs": [],
   "source": [
    "from sklearn.preprocessing import OrdinalEncoder\n",
    "X= np.asarray(lst_images)/255\n",
    "\n",
    "#The Values of Y are encoded\n",
    "lbl_images_array=np.asarray(lbl_images).reshape((len(lbl_images), -1))\n",
    "lbl_encoded=OrdinalEncoder(categories=[selected_folders]).fit_transform(lbl_images_array) # the labels are made an array\n",
    "Y= to_categorical(lbl_encoded)\n",
    "print('Y :')\n",
    "print(Y)"
   ]
  },
  {
   "cell_type": "markdown",
   "metadata": {},
   "source": [
    "## SPLITING THE DATA"
   ]
  },
  {
   "cell_type": "markdown",
   "metadata": {},
   "source": [
    "X and Y is shuffled and splitted into train and test set in ratio 70:30"
   ]
  },
  {
   "cell_type": "code",
   "execution_count": 5,
   "metadata": {
    "execution": {
     "iopub.execute_input": "2021-11-07T15:31:34.501870Z",
     "iopub.status.busy": "2021-11-07T15:31:34.501569Z",
     "iopub.status.idle": "2021-11-07T15:31:35.379682Z",
     "shell.execute_reply": "2021-11-07T15:31:35.378834Z",
     "shell.execute_reply.started": "2021-11-07T15:31:34.501819Z"
    }
   },
   "outputs": [],
   "source": [
    "from sklearn.model_selection import train_test_split\n",
    "x_train, x_test, y_train, y_test = train_test_split(X, Y, test_size=0.3, random_state=42)\n"
   ]
  },
  {
   "cell_type": "code",
   "execution_count": 6,
   "metadata": {
    "execution": {
     "iopub.execute_input": "2021-11-07T15:31:35.382645Z",
     "iopub.status.busy": "2021-11-07T15:31:35.382307Z",
     "iopub.status.idle": "2021-11-07T15:31:35.504382Z",
     "shell.execute_reply": "2021-11-07T15:31:35.503296Z",
     "shell.execute_reply.started": "2021-11-07T15:31:35.382596Z"
    }
   },
   "outputs": [],
   "source": [
    "#Free up Ram\n",
    "del(lst_images)\n",
    "del(X)\n",
    "gc.collect()"
   ]
  },
  {
   "cell_type": "markdown",
   "metadata": {},
   "source": [
    "# Create ANN Model Using Tensorflow Keras\n",
    "\n",
    "Architecture of the Network is :-\n",
    "\n",
    "1). Input layer for 256x256x3 images in X\n",
    "\n",
    "2). Dense layers with 1000 neurons and ReLU activation function\n",
    "\n",
    "\n",
    "3). Output layer with 4 neurons for classification of input images as one of 4 disease 'Tomato___Leaf_Mold','Tomato___Target_Spot','Tomato___Tomato_mosaic_virus','Tomato___healthy')"
   ]
  },
  {
   "cell_type": "code",
   "execution_count": 7,
   "metadata": {
    "execution": {
     "iopub.execute_input": "2021-11-07T15:31:35.507035Z",
     "iopub.status.busy": "2021-11-07T15:31:35.506227Z",
     "iopub.status.idle": "2021-11-07T15:31:37.566751Z",
     "shell.execute_reply": "2021-11-07T15:31:37.565914Z",
     "shell.execute_reply.started": "2021-11-07T15:31:35.506943Z"
    }
   },
   "outputs": [],
   "source": [
    "\n",
    "\n",
    "#Creating The ANN object\n",
    "ann=Sequential()\n",
    "\n",
    "#Adding The Input Layer\n",
    "ann.add(Flatten(input_shape=(256, 256, 3)))\n",
    "\n",
    "\n",
    "#Adding the first layer\n",
    "ann.add(Dense(units=1000, activation='relu'))\n",
    "\n",
    "#Adding the second layer\n",
    "ann.add(Dense(units=1000, activation='relu'))\n",
    "\n",
    "#Adding the third layer\n",
    "ann.add(Dense(units=1000, activation='relu'))\n",
    "\n",
    "#Adding The Output Layer\n",
    "ann.add(Dense(units = 4, activation = 'softmax'))\n",
    "\n",
    "#Compiling the ANN\n",
    "ann.compile(optimizer = 'adam', loss = 'categorical_crossentropy', metrics = ['accuracy'])"
   ]
  },
  {
   "cell_type": "markdown",
   "metadata": {},
   "source": [
    "# Training and Validation\n",
    "\n",
    "The ann.fit method adjusts the model parameters to minimize the loss:"
   ]
  },
  {
   "cell_type": "code",
   "execution_count": 8,
   "metadata": {
    "execution": {
     "iopub.execute_input": "2021-11-07T15:31:37.568574Z",
     "iopub.status.busy": "2021-11-07T15:31:37.568215Z",
     "iopub.status.idle": "2021-11-07T15:32:05.349841Z",
     "shell.execute_reply": "2021-11-07T15:32:05.349068Z",
     "shell.execute_reply.started": "2021-11-07T15:31:37.568523Z"
    }
   },
   "outputs": [],
   "source": [
    "early_stopping_monitor = EarlyStopping(patience=3)\n",
    "history=ann.fit(x_train, y_train,validation_split=0.3, epochs =30,callbacks= [early_stopping_monitor])"
   ]
  },
  {
   "cell_type": "markdown",
   "metadata": {},
   "source": [
    "The ann.evaluate method checks the models performance(accuracy), usually on a \"Test-set\"."
   ]
  },
  {
   "cell_type": "code",
   "execution_count": 9,
   "metadata": {
    "execution": {
     "iopub.execute_input": "2021-11-07T15:32:05.351858Z",
     "iopub.status.busy": "2021-11-07T15:32:05.351477Z",
     "iopub.status.idle": "2021-11-07T15:32:05.552748Z",
     "shell.execute_reply": "2021-11-07T15:32:05.551702Z",
     "shell.execute_reply.started": "2021-11-07T15:32:05.351804Z"
    }
   },
   "outputs": [],
   "source": [
    "#free up RAM\n",
    "del(x_train)\n",
    "gc.collect()"
   ]
  },
  {
   "cell_type": "code",
   "execution_count": 10,
   "metadata": {
    "execution": {
     "iopub.execute_input": "2021-11-07T15:32:05.554957Z",
     "iopub.status.busy": "2021-11-07T15:32:05.554374Z",
     "iopub.status.idle": "2021-11-07T15:32:06.848624Z",
     "shell.execute_reply": "2021-11-07T15:32:06.846940Z",
     "shell.execute_reply.started": "2021-11-07T15:32:05.554723Z"
    }
   },
   "outputs": [],
   "source": [
    "\n",
    "loss, acc=ann.evaluate(x_test,  y_test, verbose=False)\n",
    "print(f\"The ANN has {acc*100:.2f}\"+ '% accuracy')"
   ]
  },
  {
   "cell_type": "markdown",
   "metadata": {},
   "source": [
    "### Visualising loss and accuracy over epoch"
   ]
  },
  {
   "cell_type": "code",
   "execution_count": 11,
   "metadata": {
    "execution": {
     "iopub.execute_input": "2021-11-07T15:32:06.850501Z",
     "iopub.status.busy": "2021-11-07T15:32:06.850123Z",
     "iopub.status.idle": "2021-11-07T15:32:07.053533Z",
     "shell.execute_reply": "2021-11-07T15:32:07.052724Z",
     "shell.execute_reply.started": "2021-11-07T15:32:06.850447Z"
    }
   },
   "outputs": [],
   "source": [
    "plt.plot(history.history['accuracy'])\n",
    "plt.plot(history.history['val_accuracy'])\n",
    "plt.title('model accuracy')\n",
    "plt.ylabel('accuracy')\n",
    "plt.xlabel('epoch')\n",
    "plt.legend(['train', 'val'], loc='upper left')\n",
    "plt.show()"
   ]
  },
  {
   "cell_type": "code",
   "execution_count": 12,
   "metadata": {
    "execution": {
     "iopub.execute_input": "2021-11-07T15:32:07.055970Z",
     "iopub.status.busy": "2021-11-07T15:32:07.055354Z",
     "iopub.status.idle": "2021-11-07T15:32:07.220528Z",
     "shell.execute_reply": "2021-11-07T15:32:07.219543Z",
     "shell.execute_reply.started": "2021-11-07T15:32:07.055824Z"
    }
   },
   "outputs": [],
   "source": [
    "plt.plot(history.history['loss'])\n",
    "plt.plot(history.history['val_loss'])\n",
    "plt.title('model loss')\n",
    "plt.ylabel('loss')\n",
    "plt.xlabel('epoch')\n",
    "plt.legend(['train', 'val'], loc='upper left')\n",
    "plt.show()"
   ]
  },
  {
   "cell_type": "code",
   "execution_count": 13,
   "metadata": {
    "execution": {
     "iopub.execute_input": "2021-11-07T15:32:07.222459Z",
     "iopub.status.busy": "2021-11-07T15:32:07.221906Z",
     "iopub.status.idle": "2021-11-07T15:32:08.561885Z",
     "shell.execute_reply": "2021-11-07T15:32:08.561046Z",
     "shell.execute_reply.started": "2021-11-07T15:32:07.222406Z"
    }
   },
   "outputs": [],
   "source": [
    "from sklearn.metrics import confusion_matrix\n",
    "y_pred = ann.predict(x_test)\n",
    "\n",
    "predicted_categories = argmax(y_pred, axis=1)\n",
    "\n",
    "y_test_categories= argmax(y_test, axis=1)\n",
    "\n",
    "#true_categories = tf.concat([y for x, y in test_dataset], axis=0)\n",
    "\n",
    "cf=confusion_matrix(y_test_categories, predicted_categories)\n"
   ]
  },
  {
   "cell_type": "code",
   "execution_count": 14,
   "metadata": {
    "execution": {
     "iopub.execute_input": "2021-11-07T15:32:08.564661Z",
     "iopub.status.busy": "2021-11-07T15:32:08.564128Z",
     "iopub.status.idle": "2021-11-07T15:32:08.687937Z",
     "shell.execute_reply": "2021-11-07T15:32:08.687204Z",
     "shell.execute_reply.started": "2021-11-07T15:32:08.564609Z"
    }
   },
   "outputs": [],
   "source": [
    "import seaborn as sns\n",
    "def make_confusion_matrix(cf,\n",
    "                          categories=selected_folders,\n",
    "                          cbar=True,\n",
    "                          cmap='Blues',\n",
    "                          title=None):\n",
    "\n",
    "\n",
    "    # CODE TO GENERATE TEXT INSIDE EACH SQUARE\n",
    "    blanks = ['' for i in range(cf.size)]\n",
    "\n",
    "\n",
    "    group_counts = [\"{0:0.0f}\\n\".format(value) for value in cf.flatten()]\n",
    "\n",
    "\n",
    "    group_percentages = [\"{0:.2%}\".format(value) for value in cf.flatten()/np.sum(cf)]\n",
    "\n",
    "    box_labels = [f\"{v1}{v2}\".strip() for v1, v2 in zip(group_counts,group_percentages)]\n",
    "    box_labels = np.asarray(box_labels).reshape(cf.shape[0],cf.shape[1])\n",
    "\n",
    "    figsize = plt.rcParams.get('figure.figsize')\n",
    "\n",
    "    # MAKE THE HEATMAP VISUALIZATION\n",
    "    plt.figure(figsize=figsize)\n",
    "    sns.heatmap(cf,annot=box_labels,fmt=\"\",cmap=cmap,cbar=cbar,xticklabels=categories,yticklabels=categories)\n",
    "\n",
    "    plt.ylabel('True label')\n",
    "    plt.xlabel('Predicted label')\n",
    "    \n",
    "    if title:\n",
    "        plt.title(title)"
   ]
  },
  {
   "cell_type": "code",
   "execution_count": 15,
   "metadata": {
    "execution": {
     "iopub.execute_input": "2021-11-07T15:32:08.689535Z",
     "iopub.status.busy": "2021-11-07T15:32:08.689197Z",
     "iopub.status.idle": "2021-11-07T15:32:08.933059Z",
     "shell.execute_reply": "2021-11-07T15:32:08.932069Z",
     "shell.execute_reply.started": "2021-11-07T15:32:08.689488Z"
    }
   },
   "outputs": [],
   "source": [
    "make_confusion_matrix(cf,categories=selected_folders,\n",
    "                          cbar=True,\n",
    "                          cmap='Blues',\n",
    "                          title=None)"
   ]
  },
  {
   "cell_type": "code",
   "execution_count": null,
   "metadata": {},
   "outputs": [],
   "source": []
  },
  {
   "cell_type": "code",
   "execution_count": null,
   "metadata": {},
   "outputs": [],
   "source": []
  }
 ],
 "metadata": {
  "kernelspec": {
   "display_name": "Python 3",
   "language": "python",
   "name": "python3"
  },
  "language_info": {
   "codemirror_mode": {
    "name": "ipython",
    "version": 3
   },
   "file_extension": ".py",
   "mimetype": "text/x-python",
   "name": "python",
   "nbconvert_exporter": "python",
   "pygments_lexer": "ipython3",
   "version": "3.7.4"
  }
 },
 "nbformat": 4,
 "nbformat_minor": 4
}
