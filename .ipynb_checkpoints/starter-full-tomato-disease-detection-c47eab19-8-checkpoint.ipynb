{
 "cells": [
  {
   "cell_type": "code",
   "execution_count": null,
   "metadata": {
    "execution": {
     "iopub.execute_input": "2021-10-29T09:45:24.808956Z",
     "iopub.status.busy": "2021-10-29T09:45:24.80859Z",
     "iopub.status.idle": "2021-10-29T09:45:24.814601Z",
     "shell.execute_reply": "2021-10-29T09:45:24.813694Z",
     "shell.execute_reply.started": "2021-10-29T09:45:24.808901Z"
    }
   },
   "outputs": [],
   "source": [
    "from PIL import Image\n",
    "import numpy as np\n",
    "import os\n",
    "import matplotlib.pyplot as plt\n",
    "from tensorflow.keras.layers import Flatten, Dense\n",
    "from tensorflow.keras.models import Sequential\n",
    "from tensorflow.keras.utils import to_categorical\n",
    "import gc\n"
   ]
  },
  {
   "cell_type": "markdown",
   "metadata": {},
   "source": [
    "## LOADING THE IMAGES\n",
    "\n",
    "Of all the 10 folders, the images in folders Tomato___Leaf_Mold, Tomato___Early_blight, Tomato___Septoria_leaf_spot, Tomato___Spider_mites and Two-spotted_spider_mite were read and saved in a list (lst_images) alongside their disease label in a list (lbl_images)"
   ]
  },
  {
   "cell_type": "code",
   "execution_count": null,
   "metadata": {
    "execution": {
     "iopub.execute_input": "2021-10-29T09:45:24.820488Z",
     "iopub.status.busy": "2021-10-29T09:45:24.820178Z",
     "iopub.status.idle": "2021-10-29T09:45:53.660371Z",
     "shell.execute_reply": "2021-10-29T09:45:53.659561Z",
     "shell.execute_reply.started": "2021-10-29T09:45:24.820429Z"
    }
   },
   "outputs": [],
   "source": [
    "selected_folders=['Tomato___Early_blight',\n",
    " 'Tomato___Leaf_Mold',\n",
    " 'Tomato___Septoria_leaf_spot',\n",
    " 'Tomato___Spider_mites']\n",
    "\n",
    "lst_images=[]\n",
    "lbl_images=[]\n",
    "\n",
    "for folder in os.listdir('../input/full_plant'):\n",
    "    if folder in selected_folders:\n",
    "        for file in os.listdir('../input/full_plant/'+folder):\n",
    "\n",
    "            img_path='../input/full_plant/'+folder+'/'+file\n",
    "            image_array=np.asarray(Image.open(img_path))\n",
    "            lst_images.append(image_array)\n",
    "            lbl_images.append(folder)\n"
   ]
  },
  {
   "cell_type": "markdown",
   "metadata": {},
   "source": [
    "## Example of a picture"
   ]
  },
  {
   "cell_type": "code",
   "execution_count": null,
   "metadata": {
    "execution": {
     "iopub.execute_input": "2021-10-29T09:45:53.662907Z",
     "iopub.status.busy": "2021-10-29T09:45:53.662405Z",
     "iopub.status.idle": "2021-10-29T09:45:53.856431Z",
     "shell.execute_reply": "2021-10-29T09:45:53.855436Z",
     "shell.execute_reply.started": "2021-10-29T09:45:53.662854Z"
    }
   },
   "outputs": [],
   "source": [
    "index =99\n",
    "plt.imshow(lst_images[index])\n",
    "print ( \"it's a \"+ lbl_images[index] +\"  picture.\")"
   ]
  },
  {
   "cell_type": "markdown",
   "metadata": {},
   "source": [
    "## PRE-PROCESSING\n",
    "\n",
    "lst_images is made a numpy array and it value standardized (i.e scaled between 0-1) and saved in X"
   ]
  },
  {
   "cell_type": "code",
   "execution_count": null,
   "metadata": {
    "execution": {
     "iopub.execute_input": "2021-10-29T09:45:53.858101Z",
     "iopub.status.busy": "2021-10-29T09:45:53.857738Z",
     "iopub.status.idle": "2021-10-29T09:45:56.499176Z",
     "shell.execute_reply": "2021-10-29T09:45:56.498148Z",
     "shell.execute_reply.started": "2021-10-29T09:45:53.858054Z"
    }
   },
   "outputs": [],
   "source": [
    "from sklearn.preprocessing import OrdinalEncoder\n",
    "X= np.asarray(lst_images)/255\n",
    "\n",
    "#The Values of Y are encoded\n",
    "lbl_images_array=np.asarray(lbl_images).reshape((len(lbl_images), -1))\n",
    "lbl_encoded=OrdinalEncoder(categories=[selected_folders]).fit_transform(lbl_images_array)+1 # the labels are made an array\n",
    "Y= to_categorical(lbl_encoded)"
   ]
  },
  {
   "cell_type": "markdown",
   "metadata": {},
   "source": [
    "## SPLITING THE DATA"
   ]
  },
  {
   "cell_type": "markdown",
   "metadata": {},
   "source": [
    "X and Y is shuffled and splitted into train and test set in ratio 70:30"
   ]
  },
  {
   "cell_type": "code",
   "execution_count": null,
   "metadata": {
    "execution": {
     "iopub.execute_input": "2021-10-29T09:45:56.501002Z",
     "iopub.status.busy": "2021-10-29T09:45:56.500512Z",
     "iopub.status.idle": "2021-10-29T09:45:59.695947Z",
     "shell.execute_reply": "2021-10-29T09:45:59.694783Z",
     "shell.execute_reply.started": "2021-10-29T09:45:56.500952Z"
    }
   },
   "outputs": [],
   "source": [
    "from sklearn.model_selection import train_test_split\n",
    "x_train, x_test, y_train, y_test = train_test_split(X, Y, test_size=0.3, random_state=42)\n"
   ]
  },
  {
   "cell_type": "code",
   "execution_count": null,
   "metadata": {
    "execution": {
     "iopub.execute_input": "2021-10-29T09:45:59.698948Z",
     "iopub.status.busy": "2021-10-29T09:45:59.698566Z",
     "iopub.status.idle": "2021-10-29T09:45:59.865321Z",
     "shell.execute_reply": "2021-10-29T09:45:59.864171Z",
     "shell.execute_reply.started": "2021-10-29T09:45:59.698898Z"
    }
   },
   "outputs": [],
   "source": [
    "#Free up Ram\n",
    "del(lst_images)\n",
    "del(X)\n",
    "gc.collect()"
   ]
  },
  {
   "cell_type": "markdown",
   "metadata": {},
   "source": [
    "# Create ANN Model Using Tensorflow Keras\n",
    "\n",
    "Architecture of the Network is :-\n",
    "\n",
    "1). Input layer for 256x256x3 images in X\n",
    "\n",
    "2). Dense layers with 500 neurons and ReLU activation function\n",
    "\n",
    "3). Output layer with 4 neurons for classification of input images as one of 4 disease Tomato___Early_blight(1),Tomato___Leaf_Mold(2),Tomato___Septoria_leaf_spot(3),Tomato___Spider_mites(4))"
   ]
  },
  {
   "cell_type": "code",
   "execution_count": null,
   "metadata": {
    "execution": {
     "iopub.execute_input": "2021-10-29T09:45:59.869177Z",
     "iopub.status.busy": "2021-10-29T09:45:59.868155Z",
     "iopub.status.idle": "2021-10-29T09:46:02.260175Z",
     "shell.execute_reply": "2021-10-29T09:46:02.259372Z",
     "shell.execute_reply.started": "2021-10-29T09:45:59.869124Z"
    }
   },
   "outputs": [],
   "source": [
    "#Creating The ANN object\n",
    "ann=Sequential()\n",
    "\n",
    "#Adding The Input Layer\n",
    "ann.add(Flatten(input_shape=(256, 256, 3)))\n",
    "\n",
    "\n",
    "#Adding the first layer\n",
    "ann.add(Dense(units=500, activation='relu'))\n",
    "\n",
    "\n",
    "#Adding The Output Layer\n",
    "ann.add(Dense(units = 4, activation = 'softmax'))\n",
    "\n",
    "#Compiling the ANN\n",
    "ann.compile(optimizer = 'adam', loss = 'categorical_crossentropy', metrics = ['accuracy'])"
   ]
  },
  {
   "cell_type": "markdown",
   "metadata": {},
   "source": [
    "# Training and Validation\n",
    "\n",
    "The ann.fit method adjusts the model parameters to minimize the loss:"
   ]
  },
  {
   "cell_type": "code",
   "execution_count": null,
   "metadata": {
    "execution": {
     "iopub.execute_input": "2021-10-29T09:46:02.262449Z",
     "iopub.status.busy": "2021-10-29T09:46:02.26191Z",
     "iopub.status.idle": "2021-10-29T09:47:51.359817Z",
     "shell.execute_reply": "2021-10-29T09:47:51.359055Z",
     "shell.execute_reply.started": "2021-10-29T09:46:02.2624Z"
    }
   },
   "outputs": [],
   "source": [
    "ann.fit(x_train, y_train, epochs = 30)"
   ]
  },
  {
   "cell_type": "markdown",
   "metadata": {},
   "source": [
    "The ann.evaluate method checks the models performance(accuracy), usually on a \"Test-set\"."
   ]
  },
  {
   "cell_type": "code",
   "execution_count": null,
   "metadata": {
    "execution": {
     "iopub.execute_input": "2021-10-29T09:47:51.363139Z",
     "iopub.status.busy": "2021-10-29T09:47:51.362754Z",
     "iopub.status.idle": "2021-10-29T09:47:51.643956Z",
     "shell.execute_reply": "2021-10-29T09:47:51.643131Z",
     "shell.execute_reply.started": "2021-10-29T09:47:51.362982Z"
    }
   },
   "outputs": [],
   "source": [
    "#free up RAM\n",
    "del(x_train)\n",
    "gc.collect()"
   ]
  },
  {
   "cell_type": "code",
   "execution_count": null,
   "metadata": {
    "execution": {
     "iopub.execute_input": "2021-10-29T09:55:18.611608Z",
     "iopub.status.busy": "2021-10-29T09:55:18.61124Z",
     "iopub.status.idle": "2021-10-29T09:55:21.084603Z",
     "shell.execute_reply": "2021-10-29T09:55:21.083782Z",
     "shell.execute_reply.started": "2021-10-29T09:55:18.611551Z"
    }
   },
   "outputs": [],
   "source": [
    "\n",
    "loss, acc=ann.evaluate(x_test,  y_test, verbose=False)\n",
    "print(f\"The ANN has {acc*100:.2f}\"+ '% accuracy')"
   ]
  },
  {
   "cell_type": "code",
   "execution_count": null,
   "metadata": {},
   "outputs": [],
   "source": []
  }
 ],
 "metadata": {
  "kernelspec": {
   "display_name": "Python 3",
   "language": "python",
   "name": "python3"
  },
  "language_info": {
   "codemirror_mode": {
    "name": "ipython",
    "version": 3
   },
   "file_extension": ".py",
   "mimetype": "text/x-python",
   "name": "python",
   "nbconvert_exporter": "python",
   "pygments_lexer": "ipython3",
   "version": "3.7.4"
  }
 },
 "nbformat": 4,
 "nbformat_minor": 4
}
